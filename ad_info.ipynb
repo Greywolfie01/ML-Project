{
 "cells": [
  {
   "cell_type": "markdown",
   "metadata": {},
   "source": [
    "## File Descriptions\n",
    "\n",
    "- **`train.csv`**: Contains personal records for about two-thirds (~8700) of the passengers, to be used as training data.\n",
    "\n",
    "- **`test.csv`**: Holds personal records for the remaining one-third (~4300) of the passengers, to be used as test data. The task is to predict the value of `Transported` for these passengers.\n",
    "\n",
    "- **`sample_submission.csv`**: A sample submission file in the correct format.\n",
    "\n",
    "## Data Field Descriptions\n",
    "\n",
    "### Common Fields in `train.csv` and `test.csv`:\n",
    "\n",
    "- **`PassengerId`**: A unique Id for each passenger, formatted as `gggg_pp` where `gggg` indicates a group the passenger is traveling with, and `pp` is their number within the group. People in a group are often family members, but not always.\n",
    "\n",
    "- **`HomePlanet`**: The planet the passenger departed from, typically their planet of permanent residence.\n",
    "\n",
    "- **`CryoSleep`**: Indicates whether the passenger elected to be put into suspended animation for the duration of the voyage. Passengers in cryosleep are confined to their cabins.\n",
    "\n",
    "- **`Cabin`**: The cabin number where the passenger is staying, formatted as `deck/num/side`, where `side` can be either `P` for Port or `S` for Starboard.\n",
    "\n",
    "- **`Destination`**: The planet the passenger will be debarking to.\n",
    "\n",
    "- **`Age`**: The age of the passenger.\n",
    "\n",
    "- **`VIP`**: Whether the passenger has paid for special VIP service during the voyage.\n",
    "\n",
    "- **`RoomService`, `FoodCourt`, `ShoppingMall`, `Spa`, `VRDeck`**: The amount the passenger has billed at each of the Spaceship Titanic's many luxury amenities.\n",
    "\n",
    "- **`Name`**: The first and last names of the passenger.\n",
    "\n",
    "### Specific to `train.csv`:\n",
    "\n",
    "- **`Transported`**: Whether the passenger was transported to another dimension. This is the target column for prediction.\n",
    "\n",
    "### Specific to `sample_submission.csv`:\n",
    "\n",
    "- Contains two columns:\n",
    "    - **`PassengerId`**: Id for each passenger in the test set.\n",
    "    - **`Transported`**: The target prediction for each passenger, either `True` or `False`.\n"
   ]
  }
 ],
 "metadata": {
  "language_info": {
   "name": "python"
  }
 },
 "nbformat": 4,
 "nbformat_minor": 2
}
